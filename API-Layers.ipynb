{
 "cells": [
  {
   "cell_type": "code",
   "execution_count": 0,
   "metadata": {
    "application/vnd.databricks.v1+cell": {
     "cellMetadata": {
      "byteLimit": 2048000,
      "rowLimit": 10000
     },
     "inputWidgets": {},
     "nuid": "194117d6-67af-40c4-9a8c-6ad1fd8e896d",
     "showTitle": false,
     "tableResultSettingsMap": {},
     "title": ""
    }
   },
   "outputs": [],
   "source": [
    "dbutils.widgets.text(\"data_execucao\", \"\")\n",
    "data_execucao = dbutils.widgets.get(\"data_execucao\")"
   ]
  },
  {
   "cell_type": "code",
   "execution_count": 0,
   "metadata": {
    "application/vnd.databricks.v1+cell": {
     "cellMetadata": {
      "byteLimit": 2048000,
      "rowLimit": 10000
     },
     "inputWidgets": {},
     "nuid": "0ef62b7c-28e5-4942-8d6d-513bf62745bc",
     "showTitle": false,
     "tableResultSettingsMap": {},
     "title": ""
    }
   },
   "outputs": [],
   "source": [
    "from pyspark.sql.functions import lit\n",
    "import requests"
   ]
  },
  {
   "cell_type": "code",
   "execution_count": 0,
   "metadata": {
    "application/vnd.databricks.v1+cell": {
     "cellMetadata": {
      "byteLimit": 2048000,
      "rowLimit": 10000
     },
     "inputWidgets": {},
     "nuid": "e6f53338-07e3-4239-a61b-b6c93e9c7c53",
     "showTitle": false,
     "tableResultSettingsMap": {},
     "title": ""
    }
   },
   "outputs": [],
   "source": [
    "def extraindo_dados(date, base=\"BRL\"):\n",
    "\n",
    "  url = f\"https://api.apilayer.com/exchangerates_data/{date}&base={base}\"\n",
    "\n",
    "  headers = {\n",
    "  \"apikey\": \"zWIlbtGaoigJGMj1Kdmwz3Ib4AHEVDAL\"\n",
    "  }\n",
    "\n",
    "  # parametros = {\"base\":base,  \"symbols\": \"USD,GBP,EUR, BRL\"}\n",
    "  parametros = {\"base\":base}\n",
    " \n",
    "  response = requests.request(\"GET\", url, headers=headers, params = parametros)\n",
    "\n",
    "  if response.status_code != 200:\n",
    "    raise Exception(\"Não consegui extrair dados\")\n",
    "\n",
    "  return response.json()"
   ]
  },
  {
   "cell_type": "code",
   "execution_count": 0,
   "metadata": {
    "application/vnd.databricks.v1+cell": {
     "cellMetadata": {
      "byteLimit": 2048000,
      "rowLimit": 10000
     },
     "inputWidgets": {},
     "nuid": "59f4e434-536f-4b7c-9011-e327f4397916",
     "showTitle": false,
     "tableResultSettingsMap": {},
     "title": ""
    }
   },
   "outputs": [],
   "source": [
    "def create_df(dados):\n",
    "  valores = [(moeda , float(taxa)) for moeda, taxa in dados['rates'].items()]\n",
    "  return valores"
   ]
  },
  {
   "cell_type": "code",
   "execution_count": 0,
   "metadata": {
    "application/vnd.databricks.v1+cell": {
     "cellMetadata": {
      "byteLimit": 2048000,
      "rowLimit": 10000
     },
     "inputWidgets": {},
     "nuid": "ed002a0c-c8df-4b4e-ae77-cc89a5e47b0f",
     "showTitle": false,
     "tableResultSettingsMap": {},
     "title": ""
    }
   },
   "outputs": [],
   "source": [
    "def salvar_arquivo_parquet(conversao):\n",
    "    ano, mes, dia  = conversao['date'].split('-')\n",
    "\n",
    "    # path_moedas = f'dbfs:/databricks-results/bronze/{ano}/{mes}/{dia}'\n",
    "\n",
    "    response = create_df(conversao) \n",
    "\n",
    "    df_moeadas = spark.createDataFrame(response, schema=['moeda', 'taxa'])\n",
    "    df_moeadas = df_moeadas.withColumn('data', lit(f'{ano}-{mes}-{dia}'))\n",
    "\n",
    "    # df_moeadas.write.format('parquet').mode('overwrite').save(path_moedas)\n",
    "\n",
    "    # print(f\"Arquivos salvos em {path_moedas}\")\n",
    "    return df_moeadas\n"
   ]
  },
  {
   "cell_type": "markdown",
   "metadata": {
    "application/vnd.databricks.v1+cell": {
     "cellMetadata": {},
     "inputWidgets": {},
     "nuid": "d4cd1c98-34fc-4264-9d88-8ec1d248dd12",
     "showTitle": false,
     "tableResultSettingsMap": {},
     "title": ""
    }
   },
   "source": [
    "## 2025-01-15"
   ]
  },
  {
   "cell_type": "code",
   "execution_count": 0,
   "metadata": {
    "application/vnd.databricks.v1+cell": {
     "cellMetadata": {
      "byteLimit": 2048000,
      "rowLimit": 10000
     },
     "inputWidgets": {},
     "nuid": "cd626a47-a6f8-4621-94fb-8e4dbd230587",
     "showTitle": false,
     "tableResultSettingsMap": {},
     "title": ""
    }
   },
   "outputs": [],
   "source": [
    "cotacoes = extraindo_dados(data_execucao)\n",
    "# create_df(cotacoes)\n",
    "s = salvar_arquivo_parquet(cotacoes)"
   ]
  },
  {
   "cell_type": "code",
   "execution_count": 0,
   "metadata": {
    "application/vnd.databricks.v1+cell": {
     "cellMetadata": {
      "byteLimit": 2048000,
      "rowLimit": 10000
     },
     "inputWidgets": {},
     "nuid": "8df25585-49ac-472e-ad5e-81e33f9eb7a3",
     "showTitle": false,
     "tableResultSettingsMap": {},
     "title": ""
    }
   },
   "outputs": [],
   "source": [
    "s.show()"
   ]
  }
 ],
 "metadata": {
  "application/vnd.databricks.v1+notebook": {
   "computePreferences": null,
   "dashboards": [],
   "environmentMetadata": {
    "base_environment": "",
    "environment_version": "2"
   },
   "language": "python",
   "notebookMetadata": {
    "mostRecentlyExecutedCommandWithImplicitDF": {
     "commandId": 5878416033833741,
     "dataframes": [
      "_sqldf"
     ]
    },
    "pythonIndentUnit": 4
   },
   "notebookName": "API-Layers",
   "widgets": {
    "data_execucao": {
     "currentValue": "2025-01-15",
     "nuid": "67689c6c-bb69-439c-a665-6e84a603b80c",
     "typedWidgetInfo": {
      "autoCreated": false,
      "defaultValue": "",
      "label": null,
      "name": "data_execucao",
      "options": {
       "widgetDisplayType": "Text",
       "validationRegex": null
      },
      "parameterDataType": "String"
     },
     "widgetInfo": {
      "widgetType": "text",
      "defaultValue": "",
      "label": null,
      "name": "data_execucao",
      "options": {
       "widgetType": "text",
       "autoCreated": null,
       "validationRegex": null
      }
     }
    }
   }
  },
  "language_info": {
   "name": "python"
  }
 },
 "nbformat": 4,
 "nbformat_minor": 0
}
